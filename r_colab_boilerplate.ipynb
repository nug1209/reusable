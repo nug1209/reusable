{
  "nbformat": 4,
  "nbformat_minor": 0,
  "metadata": {
    "colab": {
      "provenance": []
    },
    "kernelspec": {
      "name": "python3",
      "display_name": "Python 3"
    },
    "language_info": {
      "name": "python"
    }
  },
  "cells": [
    {
      "cell_type": "code",
      "execution_count": null,
      "metadata": {
        "id": "kv8h3V6SVvnI"
      },
      "outputs": [],
      "source": [
        "if (!requireNamespace(\"googledrive\", quietly = TRUE)) {\n",
        "  install.packages(\"googledrive\")\n",
        "}\n",
        "\n",
        "library(\"googledrive\")\n",
        "\n",
        "if (file.exists(\"/usr/local/lib/python3.6/dist-packages/google/colab_ipython.py\")){\n",
        "  install.packages(\"R.utils\")\n",
        "  library(\"R.utils\")\n",
        "  library(\"httr\")\n",
        "  my_check <- function() {return(TRUE)}\n",
        "  reassignInPackage(\"is_interactive\", pkgName = \"httr\", my_check)\n",
        "  options(rlang_interactive=TRUE)\n",
        "}\n",
        "\n",
        "library(\"tidyverse\")\n",
        "library(\"ggplot2\")\n",
        "library(\"RColorBrewer\")"
      ]
    }
  ]
}